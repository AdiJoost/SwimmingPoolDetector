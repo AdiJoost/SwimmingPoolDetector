{
 "cells": [
  {
   "cell_type": "code",
   "execution_count": 1,
   "metadata": {},
   "outputs": [],
   "source": [
    "import cv2\n",
    "import numpy as np\n",
    "import os\n",
    "import logging\n",
    "logger = logging.getLogger(__name__)"
   ]
  },
  {
   "cell_type": "code",
   "execution_count": 2,
   "metadata": {},
   "outputs": [],
   "source": [
    "def _configureLogger():\n",
    "    logs = os.path.join(os.getcwd(), \"logs\")\n",
    "    if not os.path.exists(logs):\n",
    "        os.makedirs(logs)\n",
    "    logging.basicConfig(filename='logs/annotator.log', level=logging.INFO)\n"
   ]
  },
  {
   "cell_type": "code",
   "execution_count": 11,
   "metadata": {},
   "outputs": [],
   "source": [
    "def _validateFolders():\n",
    "    cwd = os.getcwd()\n",
    "    predictionPath = os.path.join(cwd, \"modelPrediction\")\n",
    "    if not os.path.exists(predictionPath):\n",
    "        logging.info(f\"Creating Directory: {predictionPath}\")\n",
    "        os.makedirs(predictionPath)\n",
    "    annotatedPath = os.path.join(cwd, \"poolPicturesValidated\")\n",
    "    if not os.path.exists(annotatedPath):\n",
    "        logging.info(f\"Creating Directory: {annotatedPath}\")\n",
    "        os.makedirs(annotatedPath)\n",
    "    annotatedPathNotPool = os.path.join(cwd, \"notPoolPicturesValidated\")\n",
    "    if not os.path.exists(annotatedPathNotPool):\n",
    "        logging.info(f\"Creating Directory: {annotatedPathNotPool}\")\n",
    "        os.makedirs(annotatedPathNotPool)"
   ]
  },
  {
   "cell_type": "code",
   "execution_count": 12,
   "metadata": {},
   "outputs": [],
   "source": [
    "_configureLogger()\n",
    "_validateFolders()"
   ]
  },
  {
   "cell_type": "code",
   "execution_count": 13,
   "metadata": {},
   "outputs": [],
   "source": [
    "def saveImage(filePath, folder):\n",
    "    img = cv2.imread(filePath)\n",
    "    tail = os.path.basename(filePath)\n",
    "    savePath = os.path.join(os.getcwd(), folder, tail)\n",
    "    cv2.imwrite(savePath, img)"
   ]
  },
  {
   "cell_type": "code",
   "execution_count": 17,
   "metadata": {},
   "outputs": [],
   "source": [
    "def annotatePicture(filePath):\n",
    "    isQuitting = False\n",
    "    image = cv2.imread(filePath)\n",
    "    window_name = 'image'\n",
    "    cv2.imshow(window_name, image) \n",
    "    key = cv2.waitKey(0) & 0xFF\n",
    "    if key == ord('y'):\n",
    "        saveImage(filePath, \"poolPicturesValidated\")\n",
    "        os.remove(filePath)\n",
    "    elif key == ord('q'):\n",
    "        print(\"aborting\")\n",
    "        isQuitting = True\n",
    "    elif key == ord('x'):\n",
    "        saveImage(filePath, \"notPoolPicturesValidated\")\n",
    "        os.remove(filePath)\n",
    "    else:\n",
    "        os.remove(filePath)\n",
    "    cv2.destroyAllWindows()\n",
    "    return isQuitting"
   ]
  },
  {
   "cell_type": "code",
   "execution_count": 18,
   "metadata": {},
   "outputs": [],
   "source": [
    "def _runThroughPictures():\n",
    "    for root, directories, files in os.walk(os.path.join(\"modelPrediction\")):\n",
    "        for filename in files:\n",
    "            filePath = os.path.join(root, filename)\n",
    "            if annotatePicture(filePath):\n",
    "                break"
   ]
  },
  {
   "cell_type": "markdown",
   "metadata": {},
   "source": [
    "Run the function _runThroughPictures. It shows a picture. Press \"y\", if a pool is on it. Press \"q\" to teminate the process. Press any other key to show the next picture."
   ]
  },
  {
   "cell_type": "code",
   "execution_count": 19,
   "metadata": {},
   "outputs": [],
   "source": [
    "\n",
    "_runThroughPictures()"
   ]
  },
  {
   "cell_type": "code",
   "execution_count": null,
   "metadata": {},
   "outputs": [],
   "source": []
  }
 ],
 "metadata": {
  "kernelspec": {
   "display_name": "swimmingPoolDetector",
   "language": "python",
   "name": "python3"
  },
  "language_info": {
   "codemirror_mode": {
    "name": "ipython",
    "version": 3
   },
   "file_extension": ".py",
   "mimetype": "text/x-python",
   "name": "python",
   "nbconvert_exporter": "python",
   "pygments_lexer": "ipython3",
   "version": "3.10.13"
  }
 },
 "nbformat": 4,
 "nbformat_minor": 2
}
