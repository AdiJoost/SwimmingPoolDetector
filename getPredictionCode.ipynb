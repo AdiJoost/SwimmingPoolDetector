{
 "cells": [
  {
   "cell_type": "code",
   "execution_count": 2,
   "metadata": {},
   "outputs": [],
   "source": [
    "import requests\n",
    "import json\n",
    "\n",
    "from pathlib import Path\n",
    "\n",
    "from swissimage_annotator.src.helpers import convert_coordinates"
   ]
  },
  {
   "cell_type": "code",
   "execution_count": 3,
   "metadata": {},
   "outputs": [
    {
     "ename": "NameError",
     "evalue": "name '__file__' is not defined",
     "output_type": "error",
     "traceback": [
      "\u001b[1;31m---------------------------------------------------------------------------\u001b[0m",
      "\u001b[1;31mNameError\u001b[0m                                 Traceback (most recent call last)",
      "Cell \u001b[1;32mIn[3], line 2\u001b[0m\n\u001b[0;32m      1\u001b[0m BASE_URL \u001b[38;5;241m=\u001b[39m \u001b[38;5;124m\"\u001b[39m\u001b[38;5;124mhttps://data.geo.admin.ch/api/stac/v0.9/collections/ch.swisstopo.swissimage-dop10/items\u001b[39m\u001b[38;5;124m\"\u001b[39m\n\u001b[1;32m----> 2\u001b[0m DATA_DIR \u001b[38;5;241m=\u001b[39m Path(\u001b[38;5;18;43m__file__\u001b[39;49m)\u001b[38;5;241m.\u001b[39mparent\u001b[38;5;241m.\u001b[39mparent \u001b[38;5;241m/\u001b[39m \u001b[38;5;124m'\u001b[39m\u001b[38;5;124mstatic\u001b[39m\u001b[38;5;124m'\u001b[39m \u001b[38;5;241m/\u001b[39m \u001b[38;5;124m'\u001b[39m\u001b[38;5;124mdata\u001b[39m\u001b[38;5;124m'\u001b[39m\n\u001b[0;32m      5\u001b[0m \u001b[38;5;28;01mdef\u001b[39;00m \u001b[38;5;21mdownload_tif\u001b[39m(x_min\u001b[38;5;241m=\u001b[39m\u001b[38;5;28;01mNone\u001b[39;00m, x_max\u001b[38;5;241m=\u001b[39m\u001b[38;5;28;01mNone\u001b[39;00m, y_min\u001b[38;5;241m=\u001b[39m\u001b[38;5;28;01mNone\u001b[39;00m, y_max\u001b[38;5;241m=\u001b[39m\u001b[38;5;28;01mNone\u001b[39;00m, data_dir\u001b[38;5;241m=\u001b[39m\u001b[38;5;28;01mNone\u001b[39;00m, crs\u001b[38;5;241m=\u001b[39m\u001b[38;5;241m4326\u001b[39m):\n\u001b[0;32m      6\u001b[0m     \u001b[38;5;28;01mif\u001b[39;00m \u001b[38;5;129;01mnot\u001b[39;00m data_dir:\n",
      "\u001b[1;31mNameError\u001b[0m: name '__file__' is not defined"
     ]
    }
   ],
   "source": [
    "BASE_URL = \"https://data.geo.admin.ch/api/stac/v0.9/collections/ch.swisstopo.swissimage-dop10/items\"\n",
    "DATA_DIR = Path(\"predictedData\")\n",
    "\n",
    "\n",
    "def download_tif(x_min=None, x_max=None, y_min=None, y_max=None, data_dir=None, crs=4326):\n",
    "    if not data_dir:\n",
    "        data_dir = DATA_DIR\n",
    "\n",
    "    if crs == 2056:\n",
    "        coordinates = convert_coordinates([[x_min+100, y_min+100], [x_max-100, y_max-100]], 2056, 4326)\n",
    "        x_min = coordinates[0][1]\n",
    "        y_min = coordinates[0][0]\n",
    "        x_max = coordinates[1][1]\n",
    "        y_max = coordinates[1][0]\n",
    "\n",
    "    query = \"\"\n",
    "    if x_min and x_max and y_min and y_max:\n",
    "        query += '?bbox=' + ','.join([str(x_min), str(y_min), str(x_max), str(y_max)])\n",
    "\n",
    "    url = BASE_URL + query\n",
    "    print(url)\n",
    "    response = requests.get(url)\n",
    "    data = json.loads(response.content.decode('utf-8'))\n",
    "    for feature in data['features']:\n",
    "        asset = list(filter(lambda a: a['eo:gsd'] == 0.1, feature['assets'].values()))[0]\n",
    "        fn = f'{asset[\"href\"].split(\"/\")[-2]}.tif'\n",
    "        r = requests.get(asset['href'])\n",
    "        with open(data_dir / fn, 'wb') as f:\n",
    "            f.write(r.content)"
   ]
  },
  {
   "cell_type": "code",
   "execution_count": null,
   "metadata": {},
   "outputs": [],
   "source": []
  }
 ],
 "metadata": {
  "kernelspec": {
   "display_name": "SwimmingPoolDetector",
   "language": "python",
   "name": "python3"
  },
  "language_info": {
   "codemirror_mode": {
    "name": "ipython",
    "version": 3
   },
   "file_extension": ".py",
   "mimetype": "text/x-python",
   "name": "python",
   "nbconvert_exporter": "python",
   "pygments_lexer": "ipython3",
   "version": "3.10.13"
  }
 },
 "nbformat": 4,
 "nbformat_minor": 2
}
