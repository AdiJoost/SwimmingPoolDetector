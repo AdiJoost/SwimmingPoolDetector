{
 "cells": [
  {
   "cell_type": "code",
   "execution_count": 1,
   "metadata": {},
   "outputs": [],
   "source": [
    "import os\n",
    "import logging\n",
    "from tensorflow.keras.models import load_model\n",
    "import cv2\n",
    "import numpy as np\n",
    "import matplotlib.pyplot as plt\n",
    "logger = logging.getLogger(__name__)"
   ]
  },
  {
   "cell_type": "code",
   "execution_count": 2,
   "metadata": {},
   "outputs": [],
   "source": [
    "def _configureLogger():\n",
    "    logs = os.path.join(os.getcwd(), \"logs\")\n",
    "    if not os.path.exists(logs):\n",
    "        os.makedirs(logs)\n",
    "    logging.basicConfig(filename='logs/scrapper.log', level=logging.INFO)\n",
    "\n",
    "\n",
    "def _validateFolders():\n",
    "    modelName = \"myModel\" #make this variable\n",
    "    predictedData = os.path.join(os.getcwd(), \"predictedData\")\n",
    "    if not os.path.exists(predictedData):\n",
    "        logging.info(f\"Creating Directory: {predictedData}\")\n",
    "        os.makedirs(predictedData)\n",
    "    temps = os.path.join(predictedData, \"temps\")\n",
    "    if not os.path.exists(temps):\n",
    "        logging.info(f\"Creating Directory: {temps}\")\n",
    "        os.makedirs(temps)\n",
    "    predictedModelData = os.path.join(predictedData, modelName)\n",
    "    if not os.path.exists(predictedModelData):\n",
    "        logging.info(f\"Creating Directory: {predictedModelData}\")\n",
    "        os.makedirs(predictedModelData)"
   ]
  },
  {
   "cell_type": "code",
   "execution_count": 3,
   "metadata": {},
   "outputs": [],
   "source": [
    "_configureLogger()\n",
    "_validateFolders()"
   ]
  },
  {
   "cell_type": "code",
   "execution_count": 4,
   "metadata": {},
   "outputs": [],
   "source": [
    "def getModel(pathToModel):\n",
    "    model = load_model(pathToModel)\n",
    "    return model"
   ]
  },
  {
   "cell_type": "code",
   "execution_count": 5,
   "metadata": {},
   "outputs": [],
   "source": [
    "model = getModel(\"vgg16.h5\")"
   ]
  },
  {
   "cell_type": "code",
   "execution_count": 7,
   "metadata": {},
   "outputs": [],
   "source": [
    "def predictImg(filePath):\n",
    "     img = cv2.imread(filePath)\n",
    "     img = img /255\n",
    "     img = np.expand_dims(img, axis=0)\n",
    "     pred = model.predict(img)\n",
    "     if pred > 0.5:\n",
    "           saveImg(filePath)\n",
    "     os.remove(filePath)\n",
    "\n",
    "def saveImg(filePath):\n",
    "      img = cv2.imread(filePath)\n",
    "      tail = os.path.basename(filePath)\n",
    "      savePath = os.path.join(os.getcwd(), \"predictedData\", \"myModel\", tail)\n",
    "      cv2.imwrite(savePath, img)\n",
    "\n",
    "for root, directories, files in os.walk(os.path.join(\"predictedData\")):\n",
    "        for filename in files:\n",
    "            filePath = os.path.join(root, filename)\n",
    "            predictImg(filePath)\n"
   ]
  },
  {
   "cell_type": "code",
   "execution_count": 9,
   "metadata": {},
   "outputs": [],
   "source": [
    "from imageDownloader import gatherImages\n",
    "\n",
    "gatherImages(2752, 2753, 1212, 1213)"
   ]
  },
  {
   "cell_type": "code",
   "execution_count": null,
   "metadata": {},
   "outputs": [],
   "source": []
  }
 ],
 "metadata": {
  "kernelspec": {
   "display_name": "SwimmingPoolDetector",
   "language": "python",
   "name": "python3"
  },
  "language_info": {
   "codemirror_mode": {
    "name": "ipython",
    "version": 3
   },
   "file_extension": ".py",
   "mimetype": "text/x-python",
   "name": "python",
   "nbconvert_exporter": "python",
   "pygments_lexer": "ipython3",
   "version": "3.10.13"
  }
 },
 "nbformat": 4,
 "nbformat_minor": 2
}
