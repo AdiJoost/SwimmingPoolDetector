{
 "cells": [
  {
   "cell_type": "code",
   "execution_count": 27,
   "metadata": {},
   "outputs": [],
   "source": [
    "import numpy as np\n",
    "import cv2\n",
    "import os\n",
    "import matplotlib.pyplot as plt"
   ]
  },
  {
   "cell_type": "code",
   "execution_count": 7,
   "metadata": {},
   "outputs": [
    {
     "name": "stdout",
     "output_type": "stream",
     "text": [
      "./swissimage_annotator/static/data/swimmingpooldetector/y\\2686000_1241800.png\n",
      "./swissimage_annotator/static/data/swimmingpooldetector/y\\2686000_1241900.png\n",
      "./swissimage_annotator/static/data/swimmingpooldetector/y\\2686000_1241950.png\n",
      "./swissimage_annotator/static/data/swimmingpooldetector/y\\2686050_1241700.png\n",
      "./swissimage_annotator/static/data/swimmingpooldetector/y\\2686050_1241850.png\n",
      "./swissimage_annotator/static/data/swimmingpooldetector/y\\2686050_1241950.png\n",
      "./swissimage_annotator/static/data/swimmingpooldetector/y\\2686100_1241250.png\n",
      "./swissimage_annotator/static/data/swimmingpooldetector/y\\2686100_1241750.png\n",
      "./swissimage_annotator/static/data/swimmingpooldetector/y\\2686150_1241250.png\n",
      "./swissimage_annotator/static/data/swimmingpooldetector/y\\2686150_1241600.png\n",
      "./swissimage_annotator/static/data/swimmingpooldetector/y\\2686150_1241850.png\n",
      "./swissimage_annotator/static/data/swimmingpooldetector/y\\2686150_1241900.png\n",
      "./swissimage_annotator/static/data/swimmingpooldetector/y\\2686200_1241750.png\n",
      "./swissimage_annotator/static/data/swimmingpooldetector/y\\2686250_1240450.png\n",
      "./swissimage_annotator/static/data/swimmingpooldetector/y\\2686250_1240500.png\n",
      "./swissimage_annotator/static/data/swimmingpooldetector/y\\2686250_1241850.png\n",
      "./swissimage_annotator/static/data/swimmingpooldetector/y\\2686300_1241500.png\n",
      "./swissimage_annotator/static/data/swimmingpooldetector/y\\2686400_1240550.png\n",
      "./swissimage_annotator/static/data/swimmingpooldetector/y\\2686400_1240600.png\n",
      "./swissimage_annotator/static/data/swimmingpooldetector/y\\2686500_1241850.png\n",
      "./swissimage_annotator/static/data/swimmingpooldetector/y\\2686800_1241800.png\n",
      "./swissimage_annotator/static/data/swimmingpooldetector/y\\2687000_1240450.png\n",
      "./swissimage_annotator/static/data/swimmingpooldetector/y\\2687000_1240550.png\n",
      "./swissimage_annotator/static/data/swimmingpooldetector/y\\2687000_1241000.png\n",
      "./swissimage_annotator/static/data/swimmingpooldetector/y\\2687000_1241850.png\n",
      "./swissimage_annotator/static/data/swimmingpooldetector/y\\2687000_1241900.png\n",
      "./swissimage_annotator/static/data/swimmingpooldetector/y\\2687050_1240550.png\n",
      "./swissimage_annotator/static/data/swimmingpooldetector/y\\2687050_1241650.png\n",
      "./swissimage_annotator/static/data/swimmingpooldetector/y\\2687100_1240150.png\n",
      "./swissimage_annotator/static/data/swimmingpooldetector/y\\2687100_1240350.png\n",
      "./swissimage_annotator/static/data/swimmingpooldetector/y\\2687100_1240400.png\n",
      "./swissimage_annotator/static/data/swimmingpooldetector/y\\2687100_1240500.png\n",
      "./swissimage_annotator/static/data/swimmingpooldetector/y\\2687100_1240650.png\n",
      "./swissimage_annotator/static/data/swimmingpooldetector/y\\2687100_1241650.png\n",
      "./swissimage_annotator/static/data/swimmingpooldetector/y\\2687100_1241700.png\n",
      "./swissimage_annotator/static/data/swimmingpooldetector/y\\2687100_1241850.png\n",
      "./swissimage_annotator/static/data/swimmingpooldetector/y\\2687150_1240050.png\n",
      "./swissimage_annotator/static/data/swimmingpooldetector/y\\2687150_1240500.png\n",
      "./swissimage_annotator/static/data/swimmingpooldetector/y\\2687150_1240550.png\n",
      "./swissimage_annotator/static/data/swimmingpooldetector/y\\2687200_1240050.png\n",
      "./swissimage_annotator/static/data/swimmingpooldetector/y\\2687200_1240200.png\n",
      "./swissimage_annotator/static/data/swimmingpooldetector/y\\2687200_1240300.png\n",
      "./swissimage_annotator/static/data/swimmingpooldetector/y\\2687200_1240350.png\n",
      "./swissimage_annotator/static/data/swimmingpooldetector/y\\2687200_1240700.png\n",
      "./swissimage_annotator/static/data/swimmingpooldetector/y\\2687200_1241000.png\n",
      "./swissimage_annotator/static/data/swimmingpooldetector/y\\2687250_1240450.png\n",
      "./swissimage_annotator/static/data/swimmingpooldetector/y\\2687250_1241050.png\n",
      "./swissimage_annotator/static/data/swimmingpooldetector/y\\2687300_1240200.png\n",
      "./swissimage_annotator/static/data/swimmingpooldetector/y\\2687350_1240200.png\n",
      "./swissimage_annotator/static/data/swimmingpooldetector/y\\2687350_1240250.png\n",
      "./swissimage_annotator/static/data/swimmingpooldetector/y\\2687350_1241100.png\n",
      "./swissimage_annotator/static/data/swimmingpooldetector/y\\2687450_1240350.png\n",
      "./swissimage_annotator/static/data/swimmingpooldetector/y\\2687450_1241000.png\n",
      "./swissimage_annotator/static/data/swimmingpooldetector/y\\2687600_1240850.png\n",
      "./swissimage_annotator/static/data/swimmingpooldetector/y\\2687650_1240900.png\n",
      "./swissimage_annotator/static/data/swimmingpooldetector/y\\2687700_1240750.png\n",
      "./swissimage_annotator/static/data/swimmingpooldetector/y\\2687700_1241000.png\n",
      "./swissimage_annotator/static/data/swimmingpooldetector/y\\2687700_1241050.png\n",
      "./swissimage_annotator/static/data/swimmingpooldetector/y\\2687700_1241100.png\n",
      "./swissimage_annotator/static/data/swimmingpooldetector/y\\2687750_1240400.png\n",
      "./swissimage_annotator/static/data/swimmingpooldetector/y\\2687750_1240550.png\n",
      "./swissimage_annotator/static/data/swimmingpooldetector/y\\2687750_1240750.png\n",
      "./swissimage_annotator/static/data/swimmingpooldetector/y\\2687750_1241050.png\n",
      "./swissimage_annotator/static/data/swimmingpooldetector/y\\2687750_1241100.png\n",
      "./swissimage_annotator/static/data/swimmingpooldetector/y\\2687800_1241150.png\n",
      "./swissimage_annotator/static/data/swimmingpooldetector/y\\2687800_1241250.png\n",
      "./swissimage_annotator/static/data/swimmingpooldetector/y\\2687850_1240600.png\n",
      "./swissimage_annotator/static/data/swimmingpooldetector/y\\2687850_1240950.png\n",
      "./swissimage_annotator/static/data/swimmingpooldetector/y\\2687850_1241150.png\n",
      "./swissimage_annotator/static/data/swimmingpooldetector/y\\2687850_1241200.png\n",
      "./swissimage_annotator/static/data/swimmingpooldetector/y\\2687900_1240800.png\n",
      "./swissimage_annotator/static/data/swimmingpooldetector/y\\2687900_1240900.png\n",
      "./swissimage_annotator/static/data/swimmingpooldetector/y\\2687900_1241800.png\n",
      "./swissimage_annotator/static/data/swimmingpooldetector/y\\2687950_1240450.png\n",
      "./swissimage_annotator/static/data/swimmingpooldetector/y\\2687950_1240500.png\n",
      "./swissimage_annotator/static/data/swimmingpooldetector/y\\2687950_1240900.png\n",
      "./swissimage_annotator/static/data/swimmingpooldetector/y\\2687950_1241350.png\n",
      "./swissimage_annotator/static/data/swimmingpooldetector/y\\2687950_1241400.png\n",
      "./swissimage_annotator/static/data/swimmingpooldetector/y\\2687950_1241500.png\n",
      "./swissimage_annotator/static/data/swimmingpooldetector/y\\2687950_1241800.png\n",
      "./swissimage_annotator/static/data/swimmingpooldetector/y\\2687950_1241850.png\n",
      "./swissimage_annotator/static/data/swimmingpooldetector/y\\2760050_1191400.png\n",
      "./swissimage_annotator/static/data/swimmingpooldetector/y\\2760100_1191550.png\n",
      "./swissimage_annotator/static/data/swimmingpooldetector/y\\2760150_1191700.png\n",
      "./swissimage_annotator/static/data/swimmingpooldetector/y\\2760200_1191100.png\n",
      "./swissimage_annotator/static/data/swimmingpooldetector/y\\2760200_1191400.png\n",
      "./swissimage_annotator/static/data/swimmingpooldetector/y\\2760250_1191050.png\n",
      "./swissimage_annotator/static/data/swimmingpooldetector/y\\2760250_1191400.png\n",
      "./swissimage_annotator/static/data/swimmingpooldetector/y\\2760250_1191550.png\n",
      "./swissimage_annotator/static/data/swimmingpooldetector/y\\2760300_1192050.png\n",
      "./swissimage_annotator/static/data/swimmingpooldetector/y\\2760300_1192250.png\n",
      "./swissimage_annotator/static/data/swimmingpooldetector/y\\2760300_1192300.png\n",
      "./swissimage_annotator/static/data/swimmingpooldetector/y\\2760350_1192000.png\n",
      "./swissimage_annotator/static/data/swimmingpooldetector/y\\2760400_1192350.png\n",
      "./swissimage_annotator/static/data/swimmingpooldetector/y\\2760450_1192450.png\n",
      "./swissimage_annotator/static/data/swimmingpooldetector/y\\2760550_1192450.png\n",
      "./swissimage_annotator/static/data/swimmingpooldetector/y\\2760600_1192450.png\n",
      "./swissimage_annotator/static/data/swimmingpooldetector/y\\2760650_1192300.png\n",
      "./swissimage_annotator/static/data/swimmingpooldetector/y\\2760650_1192350.png\n",
      "./swissimage_annotator/static/data/swimmingpooldetector/y\\2760700_1192150.png\n",
      "./swissimage_annotator/static/data/swimmingpooldetector/y\\2760700_1192250.png\n",
      "./swissimage_annotator/static/data/swimmingpooldetector/y\\2760700_1192300.png\n",
      "./swissimage_annotator/static/data/swimmingpooldetector/y\\2760700_1192400.png\n",
      "./swissimage_annotator/static/data/swimmingpooldetector/y\\2760700_1192450.png\n",
      "./swissimage_annotator/static/data/swimmingpooldetector/y\\2760750_1191900.png\n",
      "./swissimage_annotator/static/data/swimmingpooldetector/y\\2760750_1192000.png\n",
      "./swissimage_annotator/static/data/swimmingpooldetector/y\\2760750_1192300.png\n",
      "./swissimage_annotator/static/data/swimmingpooldetector/y\\2760750_1192700.png\n",
      "./swissimage_annotator/static/data/swimmingpooldetector/y\\2760800_1192100.png\n",
      "./swissimage_annotator/static/data/swimmingpooldetector/y\\2760800_1192150.png\n",
      "./swissimage_annotator/static/data/swimmingpooldetector/y\\2760800_1192500.png\n",
      "./swissimage_annotator/static/data/swimmingpooldetector/y\\2760850_1192650.png\n",
      "./swissimage_annotator/static/data/swimmingpooldetector/y\\2760900_1192550.png\n",
      "./swissimage_annotator/static/data/swimmingpooldetector/y\\2760950_1192700.png\n",
      "./swissimage_annotator/static/data/swimmingpooldetector/y\\2760950_1192800.png\n"
     ]
    }
   ],
   "source": [
    "counter = 0;\n",
    "for root, dirs, files in os.walk(\"./swissimage_annotator/static/data/swimmingpooldetector/y\", topdown=False):\n",
    "    for file in files:\n",
    "        print(os.path.join(root, file))"
   ]
  },
  {
   "cell_type": "code",
   "execution_count": 18,
   "metadata": {},
   "outputs": [],
   "source": [
    "def getPathToPositivePicture():\n",
    "    for root, dirs, files in os.walk(\"./swissimage_annotator/static/data/swimmingpooldetector/y\", topdown=False):\n",
    "        for file in files:\n",
    "            yield os.path.join(root, file)\n",
    "\n",
    "def getPathToNegativePicture():\n",
    "    for root, dirs, files in os.walk(\"./swissimage_annotator/static/data/swimmingpooldetector/n\", topdown=False):\n",
    "        for file in files:\n",
    "            yield os.path.join(root, file)"
   ]
  },
  {
   "cell_type": "code",
   "execution_count": 19,
   "metadata": {},
   "outputs": [],
   "source": [
    "positiveGenerator = getPathToPositivePicture()\n",
    "negativeGenerator = getPathToNegativePicture()"
   ]
  },
  {
   "cell_type": "code",
   "execution_count": 22,
   "metadata": {},
   "outputs": [
    {
     "name": "stdout",
     "output_type": "stream",
     "text": [
      "./swissimage_annotator/static/data/swimmingpooldetector/n\\2686000_1240100.png\n"
     ]
    }
   ],
   "source": [
    "print(negativeGenerator.__next__())"
   ]
  },
  {
   "cell_type": "code",
   "execution_count": 30,
   "metadata": {},
   "outputs": [],
   "source": [
    "def loadAndPreparePictureFromPath(path: os.path):\n",
    "    image = cv2.imread(path)\n",
    "    return np.asarray(image)"
   ]
  },
  {
   "cell_type": "code",
   "execution_count": 33,
   "metadata": {},
   "outputs": [],
   "source": [
    "picture = loadAndPreparePictureFromPath(negativeGenerator.__next__())"
   ]
  },
  {
   "cell_type": "code",
   "execution_count": 43,
   "metadata": {},
   "outputs": [],
   "source": [
    "def getPicture(generator):\n",
    "    picture = loadAndPreparePictureFromPath(generator.__next__())\n",
    "    return picture"
   ]
  },
  {
   "cell_type": "code",
   "execution_count": 49,
   "metadata": {},
   "outputs": [],
   "source": [
    "def generateEqualDataSet(numberOfDataPoints: int):\n",
    "    positiveGenerator = getPathToPositivePicture()\n",
    "    negativeGenerator = getPathToNegativePicture()\n",
    "    dataSet = []\n",
    "    for _ in range(numberOfDataPoints + 1):\n",
    "        dataSet.append((getPicture(positiveGenerator), 1))\n",
    "        dataSet.append((getPicture(negativeGenerator), 0))\n",
    "    return np.random.shuffle(dataSet)"
   ]
  },
  {
   "cell_type": "code",
   "execution_count": 50,
   "metadata": {},
   "outputs": [
    {
     "ename": "AttributeError",
     "evalue": "'list' object has no attribute 'shuffle'",
     "output_type": "error",
     "traceback": [
      "\u001b[1;31m---------------------------------------------------------------------------\u001b[0m",
      "\u001b[1;31mAttributeError\u001b[0m                            Traceback (most recent call last)",
      "Cell \u001b[1;32mIn[50], line 1\u001b[0m\n\u001b[1;32m----> 1\u001b[0m dataSet \u001b[38;5;241m=\u001b[39m \u001b[43mgenerateEqualDataSet\u001b[49m\u001b[43m(\u001b[49m\u001b[38;5;241;43m4\u001b[39;49m\u001b[43m)\u001b[49m\n",
      "Cell \u001b[1;32mIn[49], line 8\u001b[0m, in \u001b[0;36mgenerateEqualDataSet\u001b[1;34m(numberOfDataPoints)\u001b[0m\n\u001b[0;32m      6\u001b[0m     dataSet\u001b[38;5;241m.\u001b[39mappend((getPicture(positiveGenerator), \u001b[38;5;241m1\u001b[39m))\n\u001b[0;32m      7\u001b[0m     dataSet\u001b[38;5;241m.\u001b[39mappend((getPicture(negativeGenerator), \u001b[38;5;241m0\u001b[39m))\n\u001b[1;32m----> 8\u001b[0m \u001b[38;5;28;01mreturn\u001b[39;00m \u001b[43mdataSet\u001b[49m\u001b[38;5;241;43m.\u001b[39;49m\u001b[43mshuffle\u001b[49m()\n",
      "\u001b[1;31mAttributeError\u001b[0m: 'list' object has no attribute 'shuffle'"
     ]
    }
   ],
   "source": [
    "dataSet = generateEqualDataSet(4)"
   ]
  },
  {
   "cell_type": "code",
   "execution_count": 51,
   "metadata": {},
   "outputs": [
    {
     "data": {
      "text/plain": [
       "(array([[[61, 68,  7],\n",
       "         [61, 68,  7],\n",
       "         [61, 68,  7],\n",
       "         ...,\n",
       "         [62, 70,  5],\n",
       "         [62, 70,  5],\n",
       "         [62, 70,  5]],\n",
       " \n",
       "        [[61, 68,  7],\n",
       "         [61, 68,  7],\n",
       "         [61, 68,  7],\n",
       "         ...,\n",
       "         [62, 70,  5],\n",
       "         [62, 70,  5],\n",
       "         [62, 70,  5]],\n",
       " \n",
       "        [[61, 68,  7],\n",
       "         [61, 68,  7],\n",
       "         [61, 68,  7],\n",
       "         ...,\n",
       "         [62, 70,  5],\n",
       "         [62, 70,  5],\n",
       "         [62, 70,  5]],\n",
       " \n",
       "        ...,\n",
       " \n",
       "        [[62, 70,  5],\n",
       "         [62, 70,  5],\n",
       "         [62, 70,  5],\n",
       "         ...,\n",
       "         [61, 69,  4],\n",
       "         [61, 69,  4],\n",
       "         [61, 69,  4]],\n",
       " \n",
       "        [[62, 70,  5],\n",
       "         [62, 70,  5],\n",
       "         [62, 70,  5],\n",
       "         ...,\n",
       "         [61, 69,  4],\n",
       "         [61, 69,  4],\n",
       "         [61, 69,  4]],\n",
       " \n",
       "        [[62, 70,  5],\n",
       "         [62, 70,  5],\n",
       "         [62, 70,  5],\n",
       "         ...,\n",
       "         [61, 69,  4],\n",
       "         [61, 69,  4],\n",
       "         [61, 69,  4]]], dtype=uint8),\n",
       " 0)"
      ]
     },
     "execution_count": 51,
     "metadata": {},
     "output_type": "execute_result"
    }
   ],
   "source": [
    "dataSet[3]"
   ]
  },
  {
   "cell_type": "code",
   "execution_count": null,
   "metadata": {},
   "outputs": [],
   "source": []
  }
 ],
 "metadata": {
  "kernelspec": {
   "display_name": "swimmingPoolDetector",
   "language": "python",
   "name": "python3"
  },
  "language_info": {
   "codemirror_mode": {
    "name": "ipython",
    "version": 3
   },
   "file_extension": ".py",
   "mimetype": "text/x-python",
   "name": "python",
   "nbconvert_exporter": "python",
   "pygments_lexer": "ipython3",
   "version": "3.12.3"
  }
 },
 "nbformat": 4,
 "nbformat_minor": 2
}
